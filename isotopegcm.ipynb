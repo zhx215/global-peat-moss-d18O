{
 "cells": [
  {
   "cell_type": "code",
   "execution_count": 1,
   "metadata": {},
   "outputs": [],
   "source": [
    "import numpy as np\n",
    "import pandas as pd\n",
    "import matplotlib.pyplot as plt\n",
    "import netCDF4\n",
    "from netCDF4 import Dataset\n",
    "import statistics"
   ]
  },
  {
   "cell_type": "code",
   "execution_count": 7,
   "metadata": {},
   "outputs": [],
   "source": [
    "def isogsm_std(month,datalat,datalon):\n",
    "    d18O_data=[]\n",
    "    for year in range(1979,2010):\n",
    "        dataset = Dataset('nudged.isogsm_sfc.h0.exp1.{}.nc'.format(year))\n",
    "        lat = dataset.variables['latitude'][:].data\n",
    "        lon = dataset.variables['longitude'][:].data\n",
    "        prth218o = dataset.variables['prth218o'][month-1][:].data\n",
    "        prth2o = dataset.variables['prth2o'][month-1][:].data\n",
    "        dist_0 = 9999\n",
    "        if datalon<-0.9375:\n",
    "            datalon_reset=datalon+360\n",
    "        else:\n",
    "            datalon_reset=datalon\n",
    "        for i in range(len(lat)):\n",
    "            for j in range(len(lon)):\n",
    "                dist = (lat[i]-datalat)**2+(lon[j]-datalon_reset)**2\n",
    "                if dist < dist_0:\n",
    "                    dist_0 = dist\n",
    "                    gridlat = i\n",
    "                    gridlon = j\n",
    "        if prth2o[gridlat][gridlon]>0:\n",
    "            d18O = (prth218o[gridlat][gridlon]/prth2o[gridlat][gridlon]-1)*1000 \n",
    "            d18O_data.append(d18O)\n",
    "    if len(d18O_data)>=2:\n",
    "        return(statistics.stdev(d18O_data))\n",
    "    else:\n",
    "        return(\"n.a.\")"
   ]
  },
  {
   "cell_type": "code",
   "execution_count": 8,
   "metadata": {},
   "outputs": [],
   "source": [
    "def lmdz4_std(month,datalat,datalon):\n",
    "    d18O_data=[]\n",
    "    for year in range(1979,2011):\n",
    "        dataset = Dataset('nudged.LMDZ4.h0.{}0101_0000.nc'.format(year))\n",
    "        lat = dataset.variables['lat'][:].data\n",
    "        lon = dataset.variables['lon'][:].data\n",
    "        PRTH218O = dataset.variables['PRTH218O'][month-1][:].data\n",
    "        PRTH2O = dataset.variables['PRTH2O'][month-1][:].data\n",
    "        dist_0 = 9999\n",
    "        if datalon>178.125:\n",
    "            datalon_reset=datalon-360\n",
    "        else:\n",
    "            datalon_reset=datalon\n",
    "        for i in range(len(lat)):\n",
    "            for j in range(len(lon)):\n",
    "                dist = (lat[i]-datalat)**2+(lon[j]-datalon_reset)**2\n",
    "                if dist < dist_0:\n",
    "                    dist_0 = dist\n",
    "                    gridlat = i\n",
    "                    gridlon = j\n",
    "        if PRTH2O[gridlat][gridlon]>0:\n",
    "            d18O = ((PRTH218O[gridlat][gridlon]/PRTH2O[gridlat][gridlon])/(2005.2*10**(-6))-1)*1000 \n",
    "            d18O_data.append(d18O)\n",
    "    if len(d18O_data)>=2:\n",
    "        return(statistics.stdev(d18O_data))\n",
    "    else:\n",
    "        return(\"n.a.\")"
   ]
  },
  {
   "cell_type": "code",
   "execution_count": 9,
   "metadata": {},
   "outputs": [],
   "source": [
    "def gissE_std(month,datalat,datalon):\n",
    "    d18O_data=[]\n",
    "    for year in range(1969,2009):\n",
    "        dataset = Dataset('nudged.gissE.h0.{}0101_0000.nc'.format(year))\n",
    "        lat = dataset.variables['lat'][:].data\n",
    "        lon = dataset.variables['lon'][:].data\n",
    "        PRTH218O = dataset.variables['PRTH218O'][month-1][:].data\n",
    "        PRTH2O = dataset.variables['PRTH2O'][month-1][:].data\n",
    "        dist_0 = 9999\n",
    "        for i in range(len(lat)):\n",
    "            for j in range(len(lon)):\n",
    "                dist = (lat[i]-1-datalat)**2+(lon[j]+1.25-datalon)**2\n",
    "                if dist < dist_0:\n",
    "                    dist_0 = dist\n",
    "                    gridlat = i\n",
    "                    gridlon = j\n",
    "        if PRTH2O[gridlat][gridlon]>0:\n",
    "            d18O = ((PRTH218O[gridlat][gridlon]/PRTH2O[gridlat][gridlon])/(2005.2*20/18*10**(-6))-1)*1000 \n",
    "            d18O_data.append(d18O)\n",
    "    if len(d18O_data)>=2:\n",
    "        return(statistics.stdev(d18O_data))\n",
    "    else:\n",
    "        return(\"n.a.\")"
   ]
  }
 ],
 "metadata": {
  "kernelspec": {
   "display_name": "Python 3",
   "language": "python",
   "name": "python3"
  },
  "language_info": {
   "codemirror_mode": {
    "name": "ipython",
    "version": 3
   },
   "file_extension": ".py",
   "mimetype": "text/x-python",
   "name": "python",
   "nbconvert_exporter": "python",
   "pygments_lexer": "ipython3",
   "version": "3.7.3"
  }
 },
 "nbformat": 4,
 "nbformat_minor": 2
}
